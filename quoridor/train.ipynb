{
 "cells": [
  {
   "cell_type": "code",
   "execution_count": null,
   "source": [
    "from google.colab import drive\n",
    "drive.mount('/content/drive')\n",
    "!nvidia-smi\n",
    "!export CUDA_VISIBLE_DEVICES=0\n",
    "!export CUDA_MPS_PIPE_DIRECTORY=/var/log/nvidia-mps\n",
    "!mkdir /var/log/nvidia-log\n",
    "!export CUDA_MPS_LOG_DIRECTORY=/var/log/nvidia-log\n",
    "!nvidia-cuda-mps-control -d\n",
    "!unset CUDA_VISIBLE_DEVICES"
   ],
   "outputs": [],
   "metadata": {
    "colab": {
     "base_uri": "https://localhost:8080/",
     "height": 417
    },
    "executionInfo": {
     "elapsed": 311,
     "status": "ok",
     "timestamp": 1630821424044,
     "user": {
      "displayName": "田中太郎",
      "photoUrl": "https://lh3.googleusercontent.com/a-/AOh14GhWIE75kCAmONK6kifUrIQFZKDp1j3Tf2jyQq4T=s64",
      "userId": "14683603613507086053"
     },
     "user_tz": -540
    },
    "id": "v6PhM8VMrihG",
    "outputId": "ccca53eb-99d6-4e9f-f5a1-1c33480db716",
    "scrolled": true
   }
  },
  {
   "cell_type": "code",
   "execution_count": null,
   "source": [
    "%cd \"/content/drive/MyDrive/alpha/quoridor\"\n",
    "import glob\n",
    "from match import Match\n",
    "from networks import Network\n",
    "from selfmatch import SelfMatch\n",
    "import config\n",
    "\n",
    "\n",
    "if __name__ == '__main__':\n",
    "    # Network, Algorithm, Match & Selfmatch Instances\n",
    "    net = Network()\n",
    "    match = Match()\n",
    "    selfmatch = SelfMatch()\n",
    "    start = len(glob.glob('./histories_input/*'))\n",
    "\n",
    "    for i in range(start, config.CYCLES, 1):\n",
    "        print('********** Train for {} / {} **********'.format(i + 1, config.CYCLES))\n",
    "        selfmatch.parallel_match(i)\n",
    "        net.train(i)\n",
    "        match.parallel_evaluate(i)\n"
   ],
   "outputs": [],
   "metadata": {
    "colab": {
     "base_uri": "https://localhost:8080/"
    },
    "id": "vrDEHNewVljI",
    "outputId": "b5d5b3f2-fb03-41ad-f2bb-3f1c910ad7e6"
   }
  }
 ],
 "metadata": {
  "accelerator": "GPU",
  "colab": {
   "authorship_tag": "ABX9TyPOCMx7RSXb/EuUBJK5Nm15",
   "collapsed_sections": [],
   "machine_shape": "hm",
   "name": "train.ipynb",
   "provenance": []
  },
  "kernelspec": {
   "display_name": "Python 3",
   "language": "python",
   "name": "python3"
  },
  "language_info": {
   "codemirror_mode": {
    "name": "ipython",
    "version": 3
   },
   "file_extension": ".py",
   "mimetype": "text/x-python",
   "name": "python",
   "nbconvert_exporter": "python",
   "pygments_lexer": "ipython3",
   "version": "3.8.5"
  }
 },
 "nbformat": 4,
 "nbformat_minor": 1
}